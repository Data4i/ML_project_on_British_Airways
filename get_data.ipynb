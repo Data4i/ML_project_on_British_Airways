{
 "cells": [
  {
   "cell_type": "code",
   "execution_count": 5,
   "id": "2c8d4a0b-3dba-4625-b103-7f63218dbf4c",
   "metadata": {},
   "outputs": [],
   "source": [
    "import re\n",
    "import requests\n",
    "from bs4 import BeautifulSoup"
   ]
  },
  {
   "cell_type": "code",
   "execution_count": 7,
   "id": "a80c0ece-284e-4ada-b1e2-13471c723f11",
   "metadata": {},
   "outputs": [],
   "source": [
    "full_review = list()\n",
    "counts = 0 \n",
    "for i in range(1, 10):\n",
    "    ready_response = requests.get(f'https://www.airlinequality.com/airline-reviews/british-airways/page/{i}/?sortby=post_date%3ADesc&pagesize=100')\n",
    "    if ready_response.status_code == 200:\n",
    "        ready_soup = BeautifulSoup(ready_response.text, 'html.parser')  \n",
    "    else:\n",
    "        print(f\"Error: Unable to fetch the content:{ready_response.status_code}\")\n",
    "\n",
    "    all_article_in_a_page = ready_soup.find_all('article', {\"itemprop\": \"review\"})\n",
    "    pattern = r'\\((.*?)\\)'\n",
    "\n",
    "    for _, article in enumerate(all_article_in_a_page):\n",
    "        table = article.find('div', {'class': 'body'}).find('div').find('div', {'class': 'review-stats'}).find('table').find_all('tr')\n",
    "        \n",
    "        review_dict = {}\n",
    "        for tr in table:\n",
    "            header_td = tr.find('td', class_='review-rating-header')\n",
    "            value_td = tr.find('td', class_='review-value')\n",
    "            stars_td = tr.find('td', {'class': 'review-rating-stars'})\n",
    "            \n",
    "            if header_td and value_td:\n",
    "                header = header_td.get_text(strip=True)\n",
    "                value = value_td.get_text(strip=True)\n",
    "                review_dict[header] = value\n",
    "            elif not value_td:\n",
    "                header = header_td.get_text(strip=True)\n",
    "                stars = stars_td.get_text(strip=True)\n",
    "                fill_stars = stars_td.find_all('span', class_='fill')\n",
    "                review_dict[header] = len(fill_stars)\n",
    "\n",
    "        \n",
    "        # is_verified = article.find('div', {'class': 'body'}).find('div', {'class': 'tc_mobile'}).find('div', {'class': 'text_content'}).find('strong')   \n",
    "        # is_verified_ready = is_verified.text if is_verified is not None else None\n",
    "        # country_of_origin = re.findall(pattern, article.find('div', {'class': 'body'}).find('h3').text)[0]\n",
    "        # country_of_origin_ready = country_of_origin.text if country_of_origin is not None else None\n",
    "        # detailed_review = article.find('div', {'class': 'body'}).find('div').find('div', {'class': 'text_content'}).text.split('|')[1].lstrip() \n",
    "        # detailed_review_ready = detailed_review.text if detailed_review is not None else None\n",
    "        \n",
    "        \n",
    "        # full_review.append({\n",
    "        #     'id': counts,\n",
    "        #     'review_header': article.find('div', {'class': 'body'}).find('h2', {'class': 'text_header'}).text.strip('\"'),\n",
    "        #     'date': article.find('div', {'class': 'body'}).find('h3').find('time').text,\n",
    "        #     'country_of_origin': country_of_origin,\n",
    "        #     'passenger_name': article.find('div', {'class': 'body'}).find('h3').find('span').text.removeprefix('\\n').removesuffix('\\n').split('\\n')[-1],\n",
    "        #     'is_verified': is_verified,\n",
    "        #     'detailed_review': detailed_review,\n",
    "        #     'rating_dict': review_dict,\n",
    "        # })\n",
    "\n",
    "        try:\n",
    "            full_review.append({\n",
    "                'id': counts,\n",
    "                'review_header': article.find('div', {'class': 'body'}).find('h2', {'class': 'text_header'}).text.strip('\"'),\n",
    "                'date': article.find('div', {'class': 'body'}).find('h3').find('time').text,\n",
    "                'country_of_origin': re.findall(pattern, article.find('div', {'class': 'body'}).find('h3').text)[0],\n",
    "                'passenger_name': article.find('div', {'class': 'body'}).find('h3').find('span').text.removeprefix('\\n').removesuffix('\\n').split('\\n')[-1],\n",
    "                'is_verified': article.find('div', {'class': 'body'}).find('div', {'class': 'tc_mobile'}).find('div', {'class': 'text_content'}).find('strong').text,\n",
    "                'detailed_review': article.find('div', {'class': 'body'}).find('div').find('div', {'class': 'text_content'}).text.split('|')[1].lstrip(),\n",
    "                'rating_dict': review_dict,\n",
    "            })\n",
    "        except:\n",
    "            full_review.append(None)\n",
    "    \n",
    "        counts+=1\n",
    "    "
   ]
  },
  {
   "cell_type": "code",
   "execution_count": 119,
   "id": "442f0127-cbe0-45c4-9543-d8f2664738ef",
   "metadata": {},
   "outputs": [],
   "source": [
    "article_dict = list()\n",
    "counts = 0 \n",
    "for i in range(1,30):\n",
    "    response = requests.get(f'https://www.airlinequality.com/airline-reviews/british-airways/page/{i}/?sortby=post_date%3ADesc&pagesize=100')\n",
    "    if response.status_code == 200:\n",
    "        soup = BeautifulSoup(response.text, 'html.parser')  \n",
    "    else:\n",
    "        print(f\"Error: Unable to fetch the content:{response.status_code}\")\n",
    "\n",
    "    all_article_in_a_page = soup.find_all('article', {\"itemprop\": \"review\"})\n",
    "    pattern = r'\\((.*?)\\)'\n",
    "    get_int_pattern = r'\\d+'\n",
    "    \n",
    "    for i, article in enumerate(all_article_in_a_page):\n",
    "        table = article.find('div', {'class': 'body'}).find('div').find('div', {'class': 'review-stats'}).find('table').find_all('tr')\n",
    "        \n",
    "        review_dict = {}\n",
    "        for tr in table:\n",
    "            header_td = tr.find('td', class_='review-rating-header')\n",
    "            value_td = tr.find('td', class_='review-value')\n",
    "            stars_td = tr.find('td', {'class': 'review-rating-stars'})\n",
    "            \n",
    "            if header_td and value_td:\n",
    "                header = header_td.get_text(strip=True)\n",
    "                value = value_td.get_text(strip=True)\n",
    "                review_dict[header] = value\n",
    "            elif not value_td:\n",
    "                header = header_td.get_text(strip=True)\n",
    "                stars = stars_td.get_text(strip=True)\n",
    "                fill_stars = stars_td.find_all('span', class_='fill')\n",
    "                review_dict[header] = len(fill_stars)\n",
    "\n",
    "        author = article.find('div', {'class': 'body'}).find('h3').find('span', {'itemprop': 'author'})\n",
    "        if author.a is not None:\n",
    "            passenger_name = author.find('span', {'itemprop': 'name'}).text\n",
    "            no_of_reviews = int(re.findall(get_int_pattern, author.a.span.text)[0])\n",
    "        elif author.a is None:\n",
    "            passenger_name = author.text.removeprefix('\\n').removesuffix('\\n').split('\\n')[-1]\n",
    "            no_of_reviews = 0\n",
    "            \n",
    "        # .find('strong').text\n",
    "        text_content = article.find('div', {'class': 'body'}).find('div').find('div', {'class': 'text_content'})\n",
    "        if text_content.strong is not None:\n",
    "            is_verified = text_content.find('strong').text\n",
    "            detailed_review = text_content.text\n",
    "        elif text_content.strong is None:\n",
    "            is_verified = 'not specified'\n",
    "            detailed_review = text_content.text\n",
    "            \n",
    "        article_dict.append({\n",
    "            'id': counts,\n",
    "            'review_header': article.find('div', {'class': 'body'}).find('h2', {'class': 'text_header'}).text.strip('\"'),\n",
    "            'no_of_reviews': no_of_reviews,\n",
    "            'passenger_name': passenger_name,\n",
    "            'country_of_origin': re.findall(pattern, article.find('div', {'class': 'body'}).find('h3').text)[0],\n",
    "            'date': article.find('div', {'class': 'body'}).find('h3').find('time').text,\n",
    "            'is_verified': is_verified,\n",
    "            'detailed_review': detailed_review,\n",
    "            'rating_dict': review_dict,\n",
    "        })\n",
    "    \n",
    "        counts+=1"
   ]
  },
  {
   "cell_type": "code",
   "execution_count": 120,
   "id": "c0b0be6d-7e67-4319-89b6-7b8325d9536c",
   "metadata": {},
   "outputs": [],
   "source": [
    "# text = '12, int'\n",
    "# integer = re.findall(r'\\d+', text)\n",
    "# int(integer[0])"
   ]
  },
  {
   "cell_type": "code",
   "execution_count": 121,
   "id": "d3354c51-65ac-480f-992a-7a8af4993079",
   "metadata": {},
   "outputs": [
    {
     "data": {
      "text/plain": [
       "2900"
      ]
     },
     "execution_count": 121,
     "metadata": {},
     "output_type": "execute_result"
    }
   ],
   "source": [
    "len(article_dict)"
   ]
  },
  {
   "cell_type": "code",
   "execution_count": 113,
   "id": "b28d3cb2-d173-4c57-9f36-cc39825b02fc",
   "metadata": {},
   "outputs": [
    {
     "name": "stdout",
     "output_type": "stream",
     "text": [
      "[{'country_of_origin': 'Portugal',\n",
      "  'date': '13th March 2018',\n",
      "  'detailed_review': 'Two regular an uneventful flights. Curiously enough, '\n",
      "                     'though, with the exact same crew! The crew were very '\n",
      "                     'nice and the service is very attentive and polite, but I '\n",
      "                     'just cannot take it that British Airways has chosen to '\n",
      "                     'provide a service just like low cost carriers, where '\n",
      "                     'everything is charged for, apart from luggage. On the '\n",
      "                     'second leg of the trip, the aircraft felt extremely warm '\n",
      "                     'and for some odd reason, row 6 where I was sitting did '\n",
      "                     'not have AC.',\n",
      "  'id': 0,\n",
      "  'is_verified': 'not specified',\n",
      "  'no_of_reviews': 0,\n",
      "  'passenger_name': 'Angelo Menezes',\n",
      "  'rating_dict': {'Cabin Staff Service': 4,\n",
      "                  'Date Flown': 'March 2018',\n",
      "                  'Food & Beverages': 1,\n",
      "                  'Ground Service': 4,\n",
      "                  'Recommended': 'no',\n",
      "                  'Route': 'Belfast to Lisbon via London',\n",
      "                  'Seat Comfort': 3,\n",
      "                  'Seat Type': 'Economy Class',\n",
      "                  'Type Of Traveller': 'Solo Leisure',\n",
      "                  'Value For Money': 2},\n",
      "  'review_header': 'service is very attentive and polite'}]\n"
     ]
    }
   ],
   "source": [
    "from pprint import pprint\n",
    "pprint(article_dict)"
   ]
  },
  {
   "cell_type": "code",
   "execution_count": null,
   "id": "e1d68551-5964-4107-8fe5-790e31086df7",
   "metadata": {},
   "outputs": [],
   "source": []
  }
 ],
 "metadata": {
  "kernelspec": {
   "display_name": "Python 3 (ipykernel)",
   "language": "python",
   "name": "python3"
  },
  "language_info": {
   "codemirror_mode": {
    "name": "ipython",
    "version": 3
   },
   "file_extension": ".py",
   "mimetype": "text/x-python",
   "name": "python",
   "nbconvert_exporter": "python",
   "pygments_lexer": "ipython3",
   "version": "3.10.12"
  }
 },
 "nbformat": 4,
 "nbformat_minor": 5
}
