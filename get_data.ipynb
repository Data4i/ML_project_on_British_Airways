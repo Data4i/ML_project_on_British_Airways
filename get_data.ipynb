{
 "cells": [
  {
   "cell_type": "code",
   "execution_count": 1,
   "id": "2c8d4a0b-3dba-4625-b103-7f63218dbf4c",
   "metadata": {},
   "outputs": [],
   "source": [
    "import re\n",
    "import requests\n",
    "from bs4 import BeautifulSoup"
   ]
  },
  {
   "cell_type": "code",
   "execution_count": 2,
   "id": "dd65fe99-70dd-45d4-96a1-a378e1a4d04f",
   "metadata": {},
   "outputs": [],
   "source": [
    "path = 'https://www.airlinequality.com/airline-reviews/british-airways'"
   ]
  },
  {
   "cell_type": "code",
   "execution_count": 3,
   "id": "445cbe83-ab69-41b3-b99c-e680609172ef",
   "metadata": {},
   "outputs": [
    {
     "data": {
      "text/plain": [
       "<Response [200]>"
      ]
     },
     "execution_count": 3,
     "metadata": {},
     "output_type": "execute_result"
    }
   ],
   "source": [
    "requests.get(path)  "
   ]
  },
  {
   "cell_type": "code",
   "execution_count": 4,
   "id": "6e9f51b1-558d-4a09-88c0-da8e110812d3",
   "metadata": {},
   "outputs": [],
   "source": [
    "response = requests.get(path)  \n",
    "if response.status_code == 200:\n",
    "    soup = BeautifulSoup(response.text, 'html.parser')  "
   ]
  },
  {
   "cell_type": "code",
   "execution_count": 51,
   "id": "5844b058-25b7-4117-bef5-c4b0a2077833",
   "metadata": {},
   "outputs": [],
   "source": [
    "review_header = soup.find('article', {\"itemprop\": \"review\"}).find('div', {'class': 'body'}).find('h2', {'class': 'text_header'}).text.strip('\"')"
   ]
  },
  {
   "cell_type": "code",
   "execution_count": 57,
   "id": "b477da06-165d-40b7-bf9d-ecef4163105f",
   "metadata": {},
   "outputs": [
    {
     "data": {
      "text/plain": [
       "'13th August 2023'"
      ]
     },
     "execution_count": 57,
     "metadata": {},
     "output_type": "execute_result"
    }
   ],
   "source": [
    "date"
   ]
  },
  {
   "cell_type": "code",
   "execution_count": 56,
   "id": "ac69a119-24a9-4383-ad55-579e13a49cac",
   "metadata": {},
   "outputs": [],
   "source": [
    "date = soup.find('article', {\"itemprop\": \"review\"}).find('div', {'class': 'body'}).find('h3').find('time').text"
   ]
  },
  {
   "cell_type": "code",
   "execution_count": 7,
   "id": "cca55dbc-33a3-48d0-94de-b310acc927e2",
   "metadata": {},
   "outputs": [],
   "source": [
    "pattern = r'\\((.*?)\\)'\n",
    "country_of_origin = re.findall(pattern, soup.find('article', {\"itemprop\": \"review\"}).find('div', {'class': 'body'}).find('h3').text)[0]"
   ]
  },
  {
   "cell_type": "code",
   "execution_count": 8,
   "id": "99a7a4e6-af01-49c9-97d3-96b008f6426e",
   "metadata": {},
   "outputs": [],
   "source": [
    "passenger_name = soup.find('article', {\"itemprop\": \"review\"}).find('div', {'class': 'body'}).find('h3').find('span').text.removeprefix('\\n')"
   ]
  },
  {
   "cell_type": "code",
   "execution_count": 9,
   "id": "6aa67995-e385-4494-95f1-e069f1dc8735",
   "metadata": {},
   "outputs": [],
   "source": [
    "is_verified = soup.find('article', {\"itemprop\": \"review\"}).find('div', {'class': 'body'}).find('div').find('div', {'class': 'text_content'}).find('strong').text"
   ]
  },
  {
   "cell_type": "code",
   "execution_count": 10,
   "id": "54859e84-c76e-4ec9-b678-952a22fc2b46",
   "metadata": {},
   "outputs": [],
   "source": [
    "detailed_review = soup.find('article', {\"itemprop\": \"review\"}).find('div', {'class': 'body'}).find('div').find('div', {'class': 'text_content'}).text.split('|')[1].lstrip()"
   ]
  },
  {
   "cell_type": "code",
   "execution_count": 123,
   "id": "82c76ec0-0bd8-4ac8-9c49-631eae1f243a",
   "metadata": {},
   "outputs": [],
   "source": [
    "table = soup.find('article', {\"itemprop\": \"review\"}).find('div', {'class': 'body'}).find('div').find('div', {'class': 'review-stats'}).find('table').find_all('tr')"
   ]
  },
  {
   "cell_type": "code",
   "execution_count": 118,
   "id": "2594ad79-8761-4adf-a3c9-f3adfa8ef72a",
   "metadata": {},
   "outputs": [
    {
     "data": {
      "text/plain": [
       "[<tr><td class=\"review-rating-header type_of_traveller\">Type Of Traveller</td><td class=\"review-value\">Couple Leisure</td></tr>,\n",
       " <tr><td class=\"review-rating-header cabin_flown\">Seat Type</td><td class=\"review-value\">Economy Class</td></tr>,\n",
       " <tr><td class=\"review-rating-header route\">Route</td><td class=\"review-value\">Gatwick to Montpelier</td></tr>,\n",
       " <tr><td class=\"review-rating-header date_flown\">Date Flown</td><td class=\"review-value\">July 2023</td></tr>,\n",
       " <tr>\n",
       " <td class=\"review-rating-header seat_comfort\">Seat Comfort</td>\n",
       " <td class=\"review-rating-stars stars\"><span class=\"star fill\">1</span><span class=\"star fill\">2</span><span class=\"star fill\">3</span><span class=\"star\">4</span><span class=\"star\">5</span></td>\n",
       " </tr>,\n",
       " <tr>\n",
       " <td class=\"review-rating-header cabin_staff_service\">Cabin Staff Service</td>\n",
       " <td class=\"review-rating-stars stars\"><span class=\"star fill\">1</span><span class=\"star fill\">2</span><span class=\"star fill\">3</span><span class=\"star\">4</span><span class=\"star\">5</span></td>\n",
       " </tr>,\n",
       " <tr>\n",
       " <td class=\"review-rating-header food_and_beverages\">Food &amp; Beverages</td>\n",
       " <td class=\"review-rating-stars stars\"><span class=\"star fill\">1</span><span class=\"star\">2</span><span class=\"star\">3</span><span class=\"star\">4</span><span class=\"star\">5</span></td>\n",
       " </tr>,\n",
       " <tr>\n",
       " <td class=\"review-rating-header ground_service\">Ground Service</td>\n",
       " <td class=\"review-rating-stars stars\"><span class=\"star fill\">1</span><span class=\"star\">2</span><span class=\"star\">3</span><span class=\"star\">4</span><span class=\"star\">5</span></td>\n",
       " </tr>,\n",
       " <tr>\n",
       " <td class=\"review-rating-header value_for_money\">Value For Money</td>\n",
       " <td class=\"review-rating-stars stars\"><span class=\"star fill\">1</span><span class=\"star\">2</span><span class=\"star\">3</span><span class=\"star\">4</span><span class=\"star\">5</span></td>\n",
       " </tr>,\n",
       " <tr><td class=\"review-rating-header recommended\">Recommended</td><td class=\"review-value rating-no\">no</td></tr>]"
      ]
     },
     "execution_count": 118,
     "metadata": {},
     "output_type": "execute_result"
    }
   ],
   "source": [
    "table"
   ]
  },
  {
   "cell_type": "code",
   "execution_count": 196,
   "id": "93e47194-149f-4671-a313-7e519ab84a18",
   "metadata": {},
   "outputs": [
    {
     "name": "stdout",
     "output_type": "stream",
     "text": [
      "['Type Of Traveller', 'Seat Type', 'Route', 'Date Flown', 'Recommended']\n",
      "{'Type Of Traveller': 'Couple Leisure', 'Seat Type': 'Economy Class', 'Route': 'Gatwick to Montpelier', 'Date Flown': 'July 2023', 'Recommended': 'no'}\n"
     ]
    }
   ],
   "source": [
    "# for i in table[:-1]:\n",
    "#     # print(i.find('td', {'class': 'review-rating-header'}))\n",
    "#     # print(i.find_all('td', {'class': 'review-value'})[0])\n",
    "#     print(i.find_all('td', {'class': 'review-rating-stars'}))\n",
    "\n",
    "# Initialize an empty dictionary to store the results\n",
    "review_dict = {}\n",
    "\n",
    "non_review_header = list()\n",
    "for tr in table:\n",
    "    header_td = tr.find('td', class_='review-rating-header')\n",
    "    value_td = tr.find('td', class_='review-value')\n",
    "    stars_td = tr.find('td', {'class': 'review-rating-stars'})\n",
    "    \n",
    "    if header_td and value_td:\n",
    "        header = header_td.get_text(strip=True)\n",
    "        non_review_header.append(header)\n",
    "        value = value_td.get_text(strip=True)\n",
    "\n",
    "        review_dict[header] = value\n",
    "\n",
    "\n",
    "\n",
    "        # review_dict[header] = len(fill_stars)\n",
    "    #         fill_stars = stars_td.find_all('span', class_='fill')\n",
    "    #         review_dict[header] = len(fill_stars)\n",
    "    \n",
    "\n",
    "print(non_review_header)\n",
    "# Print the resulting dictionary\n",
    "print(review_dict)\n",
    "\n"
   ]
  },
  {
   "cell_type": "code",
   "execution_count": 199,
   "id": "800286d8-c594-4a06-a746-49bd758495fb",
   "metadata": {},
   "outputs": [
    {
     "data": {
      "text/plain": [
       "{'Type Of Traveller': 'Couple Leisure',\n",
       " 'Seat Type': 'Economy Class',\n",
       " 'Route': 'Gatwick to Montpelier',\n",
       " 'Date Flown': 'July 2023',\n",
       " 'Seat Comfort': 3,\n",
       " 'Cabin Staff Service': 3,\n",
       " 'Food & Beverages': 1,\n",
       " 'Ground Service': 1,\n",
       " 'Value For Money': 1}"
      ]
     },
     "execution_count": 199,
     "metadata": {},
     "output_type": "execute_result"
    }
   ],
   "source": [
    "non_rated_table_dicts = dict()\n",
    "for tr in table:\n",
    "    header_td = tr.find('td', class_='review-rating-header')\n",
    "    stars_td = tr.find('td', {'class': 'review-rating-stars'})\n",
    "\n",
    "    if stars_td:\n",
    "        header = header_td.get_text(strip=True)\n",
    "        fill_stars = stars_td.find_all('span', class_='fill')\n",
    "        non_rated_table_dict[header] = len(fill_stars)\n",
    "non_rated_table_dict"
   ]
  },
  {
   "cell_type": "code",
   "execution_count": 12,
   "id": "b8c20e8f-33c9-45da-a669-7180229f1bf8",
   "metadata": {},
   "outputs": [],
   "source": [
    "non_rated_table = table[:5]\n",
    "non_rated_table_full_td = list()"
   ]
  },
  {
   "cell_type": "code",
   "execution_count": 13,
   "id": "e7df2a70-7a2e-45c5-aa92-2ef2d35f5143",
   "metadata": {},
   "outputs": [
    {
     "data": {
      "text/plain": [
       "[<tr><td class=\"review-rating-header aircraft\">Aircraft</td><td class=\"review-value\">A380</td></tr>,\n",
       " <tr><td class=\"review-rating-header type_of_traveller\">Type Of Traveller</td><td class=\"review-value\">Family Leisure</td></tr>,\n",
       " <tr><td class=\"review-rating-header cabin_flown\">Seat Type</td><td class=\"review-value\">Business Class</td></tr>,\n",
       " <tr><td class=\"review-rating-header route\">Route</td><td class=\"review-value\">London to Miami</td></tr>,\n",
       " <tr><td class=\"review-rating-header date_flown\">Date Flown</td><td class=\"review-value\">August 2023</td></tr>]"
      ]
     },
     "execution_count": 13,
     "metadata": {},
     "output_type": "execute_result"
    }
   ],
   "source": [
    "non_rated_table"
   ]
  },
  {
   "cell_type": "code",
   "execution_count": 14,
   "id": "e438d08a-b207-435b-8659-da09e77d86b7",
   "metadata": {},
   "outputs": [],
   "source": [
    "for i in non_rated_table:\n",
    "    non_rated_table_full_td.append(i.find_all('td'))\n",
    "    non_rated_table_values = [i[1].text for i in  non_rated_table_full_td]\n",
    "    non_rated_table_names = [i[0].text for i in  non_rated_table_full_td]\n",
    "    "
   ]
  },
  {
   "cell_type": "code",
   "execution_count": 15,
   "id": "07e006da-8f4b-4f5d-bfda-73cb1cf79965",
   "metadata": {},
   "outputs": [],
   "source": [
    "non_rated_table_dict = dict()\n",
    "for i, v in zip(non_rated_table_names, non_rated_table_values):\n",
    "    non_rated_table_dict[i] = v"
   ]
  },
  {
   "cell_type": "code",
   "execution_count": 16,
   "id": "cc7fccb5-9f72-4f0a-a187-196ca18fc3af",
   "metadata": {},
   "outputs": [
    {
     "data": {
      "text/plain": [
       "{'Aircraft': 'A380',\n",
       " 'Type Of Traveller': 'Family Leisure',\n",
       " 'Seat Type': 'Business Class',\n",
       " 'Route': 'London to Miami',\n",
       " 'Date Flown': 'August 2023'}"
      ]
     },
     "execution_count": 16,
     "metadata": {},
     "output_type": "execute_result"
    }
   ],
   "source": [
    "non_rated_table_dict"
   ]
  },
  {
   "cell_type": "code",
   "execution_count": 17,
   "id": "4e8c1dd2-46f7-44cc-b992-511756163ca2",
   "metadata": {},
   "outputs": [],
   "source": [
    "# 3267"
   ]
  },
  {
   "cell_type": "code",
   "execution_count": 18,
   "id": "472e4f57-737c-41ad-9ddf-e20642399010",
   "metadata": {},
   "outputs": [
    {
     "data": {
      "text/plain": [
       "'yes'"
      ]
     },
     "execution_count": 18,
     "metadata": {},
     "output_type": "execute_result"
    }
   ],
   "source": [
    "is_recommended = table[-1].find_all('td')[1].text\n",
    "is_recommended"
   ]
  },
  {
   "cell_type": "code",
   "execution_count": 20,
   "id": "7cb300e8-7ede-454a-bc26-41c4f79075c0",
   "metadata": {},
   "outputs": [],
   "source": [
    "rating_table = table[5:-1]"
   ]
  },
  {
   "cell_type": "code",
   "execution_count": 27,
   "id": "84494504-6ec4-4afd-9f3a-8bd7a1a89a5a",
   "metadata": {},
   "outputs": [
    {
     "name": "stdout",
     "output_type": "stream",
     "text": [
      "{'Seat Comfort': 4, 'Cabin Staff Service': 5, 'Food & Beverages': 5, 'Inflight Entertainment': 5, 'Ground Service': 4, 'Wifi & Connectivity': 5, 'Value For Money': 4}\n"
     ]
    }
   ],
   "source": [
    "rating_dict = {}\n",
    "\n",
    "for tr in rating_table:\n",
    "    header_td = tr.find('td', class_='review-rating-header')\n",
    "    stars_td = tr.find('td', class_='review-rating-stars')\n",
    "\n",
    "    if header_td and stars_td:\n",
    "        header = header_td.get_text(strip=True)  \n",
    "        fill_stars = stars_td.find_all('span', class_='fill')  \n",
    "        count_fill_stars = len(fill_stars)  \n",
    "        rating_dict[header] = count_fill_stars\n",
    "\n",
    "print(rating_dict)\n"
   ]
  },
  {
   "cell_type": "code",
   "execution_count": 28,
   "id": "b7ce3fbf-f443-4f79-acdb-b59a86b9e71a",
   "metadata": {},
   "outputs": [],
   "source": [
    "ready_path = f'https://www.airlinequality.com/airline-reviews/british-airways/page/{1}/?sortby=post_date%3ADesc&pagesize=100'"
   ]
  },
  {
   "cell_type": "code",
   "execution_count": 30,
   "id": "a4471714-93f4-4475-a032-77ce69004c37",
   "metadata": {},
   "outputs": [
    {
     "data": {
      "text/plain": [
       "'https://www.airlinequality.com/airline-reviews/british-airways/page/1/?sortby=post_date%3ADesc&pagesize=100'"
      ]
     },
     "execution_count": 30,
     "metadata": {},
     "output_type": "execute_result"
    }
   ],
   "source": [
    "ready_path"
   ]
  },
  {
   "cell_type": "code",
   "execution_count": null,
   "id": "dfc4c390-7c38-4a36-a95b-34cb4208e4a0",
   "metadata": {},
   "outputs": [],
   "source": [
    "# def get_airline_reviews(no_of_pages, path):\n",
    "#     full_reviews = {}\n",
    "#     for i in no_of_pages:\n",
    "        \n",
    "        \n"
   ]
  },
  {
   "cell_type": "code",
   "execution_count": 32,
   "id": "a80c0ece-284e-4ada-b1e2-13471c723f11",
   "metadata": {},
   "outputs": [
    {
     "ename": "SyntaxError",
     "evalue": "incomplete input (732027662.py, line 2)",
     "output_type": "error",
     "traceback": [
      "\u001b[0;36m  Cell \u001b[0;32mIn[32], line 2\u001b[0;36m\u001b[0m\n\u001b[0;31m    # print(i)\u001b[0m\n\u001b[0m              ^\u001b[0m\n\u001b[0;31mSyntaxError\u001b[0m\u001b[0;31m:\u001b[0m incomplete input\n"
     ]
    }
   ],
   "source": [
    "# full_review  = dict()\n",
    "# for i in range(1, 38):\n",
    "#     response = requests.get(f'https://www.airlinequality.com/airline-reviews/british-airways/page/{i}/?sortby=post_date%3ADesc&pagesize=100')\n",
    "#     if response.status_code == 200:\n",
    "#         soup = BeautifulSoup(response.text, 'html.parser')  \n",
    "#     else:\n",
    "#         print(f\"Error: Unable to fetch the content:{response.status_code}\")\n",
    "    \n",
    "    "
   ]
  },
  {
   "cell_type": "code",
   "execution_count": 34,
   "id": "36d7e247-6810-4e19-80d6-bdd294214039",
   "metadata": {},
   "outputs": [],
   "source": [
    "all_article_in_a_page = soup.find_all('article', {\"itemprop\": \"review\"})"
   ]
  },
  {
   "cell_type": "code",
   "execution_count": 35,
   "id": "48e5eb32-3ea9-4704-ae5c-a1fb13a8d353",
   "metadata": {},
   "outputs": [
    {
     "data": {
      "text/plain": [
       "10"
      ]
     },
     "execution_count": 35,
     "metadata": {},
     "output_type": "execute_result"
    }
   ],
   "source": [
    "len(all_article_in_a_page)"
   ]
  },
  {
   "cell_type": "code",
   "execution_count": 235,
   "id": "442f0127-cbe0-45c4-9543-d8f2664738ef",
   "metadata": {},
   "outputs": [],
   "source": [
    "article_dict = dict()\n",
    "pattern = r'\\((.*?)\\)'\n",
    "for i, article in enumerate(all_article_in_a_page):\n",
    "    table = article.find('div', {'class': 'body'}).find('div').find('div', {'class': 'review-stats'}).find('table').find_all('tr')\n",
    "    \n",
    "    # dividing the table into rated ones and not\n",
    "    # rating_table = table[5:-1]\n",
    "    # non_rated_table = table[:5]\n",
    "    \n",
    "    # # getting the dictionary for rated values\n",
    "    # rating_dict = {}\n",
    "\n",
    "    # for tr in rating_table:\n",
    "    #     header_td = tr.find('td', class_='review-rating-header')\n",
    "    #     stars_td = tr.find('td', class_='review-rating-stars')\n",
    "\n",
    "    #     if header_td and stars_td:\n",
    "    #         header = header_td.get_text(strip=True)  \n",
    "    #         fill_stars = stars_td.find_all('span', class_='fill')  \n",
    "    #         count_fill_stars = len(fill_stars)  \n",
    "    #         rating_dict[header] = count_fill_stars\n",
    "    \n",
    "    # non_rated_table_full_td = list()\n",
    "    # non_rated_table_dict = dict()\n",
    "    \n",
    "    # # getting the dictionary for non-rated values\n",
    "    \n",
    "\n",
    "    # #     \n",
    "\n",
    "    # non_rated_table_dicts = dict()\n",
    "    # for tr in table:\n",
    "    #     header_td = tr.find('td', {'class': 'review-rating-header'})\n",
    "    #     stars_td = tr.find('td', {'class': 'review-rating-stars'})\n",
    "\n",
    "    #     if stars_td:\n",
    "    #         header = header_td.get_text(strip=True)\n",
    "    #         fill_stars = stars_td.find_all('span', class_='fill')\n",
    "    #         non_rated_table_dict[header] = len(fill_stars)\n",
    "    review_dict = {}\n",
    "    for tr in table:\n",
    "        header_td = tr.find('td', class_='review-rating-header')\n",
    "        value_td = tr.find('td', class_='review-value')\n",
    "        \n",
    "        if header_td and value_td:\n",
    "            header = header_td.get_text(strip=True)\n",
    "            # non_review_header.append(header)\n",
    "            value = value_td.get_text(strip=True)\n",
    "    \n",
    "            review_dict[header] = value\n",
    "\n",
    "            \n",
    "            \n",
    "        \n",
    "    review_next_dict = {}\n",
    "    for tr2 in table:\n",
    "        header_td2 = tr2.find('td', class_='review-rating-header')\n",
    "        # value_td2 = tr.find('td', class_='review-value')\n",
    "        # stars_td2 = tr.find('td', class_='review-rating-stars')\n",
    "        stars_td2 = tr.find('td', {'class': 'review-rating-stars'})\n",
    "        if stars_td2:\n",
    "            print(header_td2)\n",
    "            header2 = header_td2.get_text(strip=True)\n",
    "            stars2 = stars_td2.get_text(strip=True)\n",
    "            print(header2)\n",
    "\n",
    "            review_next_dict[header2] = stars2\n",
    "        \n",
    "    \n",
    "    article_dict[i] = {\n",
    "        'review_header': article.find('div', {'class': 'body'}).find('h2', {'class': 'text_header'}).text.strip('\"'),\n",
    "        'date': article.find('div', {'class': 'body'}).find('h3').find('time').text,\n",
    "        'country_of_origin': re.findall(pattern, article.find('div', {'class': 'body'}).find('h3').text)[0],\n",
    "        'passenger_name': article.find('div', {'class': 'body'}).find('h3').find('span').text.removeprefix('\\n').removesuffix('\\n').split('\\n')[-1],\n",
    "        'is_verified': article.find('div', {'class': 'body'}).find('div').find('div', {'class': 'text_content'}).find('strong').text,\n",
    "        'detailed_review': article.find('div', {'class': 'body'}).find('div').find('div', {'class': 'text_content'}).text.split('|')[1].lstrip(),\n",
    "        'rating_dict': review_next_dict,\n",
    "        'non_rating_dict': review_dict,\n",
    "        # 'is_recommended': table[-1].find_all('td')[1].text\n",
    "    }\n",
    "\n",
    "    for i in non_rated_table:\n",
    "        non_rated_table_full_td.append(i.find_all('td'))\n",
    "        non_rated_table_values = [i[1].text for i in  non_rated_table_full_td]\n",
    "        non_rated_table_names = [i[0].text for i in  non_rated_table_full_td]\n",
    "    \n",
    "    for i, v in zip(non_rated_table_names, non_rated_table_values):\n",
    "        non_rated_table_dict[i] = v"
   ]
  },
  {
   "cell_type": "code",
   "execution_count": 236,
   "id": "b28d3cb2-d173-4c57-9f36-cc39825b02fc",
   "metadata": {},
   "outputs": [
    {
     "name": "stdout",
     "output_type": "stream",
     "text": [
      "{0: {'country_of_origin': 'United Kingdom',\n",
      "     'date': '13th August 2023',\n",
      "     'detailed_review': 'Easy check in a T5. Galleries south and North lounges '\n",
      "                        'packed, only just able to get a seat. Didn’t stay '\n",
      "                        'long as B gates lounge much quieter. Flight boarded '\n",
      "                        'smoothly and on time. A380 upper deck. Old club world '\n",
      "                        'seating which is beginning to age a little. However, '\n",
      "                        'like the large toilets on this aircraft type. Cabin '\n",
      "                        'crew were all fantastic. One family had tech issues '\n",
      "                        'with their seats and entertainment systems which crew '\n",
      "                        'worked hard on though sadly without success. Food and '\n",
      "                        'drink options were all very good. Entertainment was '\n",
      "                        'good. Overall an enjoyable flight.',\n",
      "     'is_verified': 'Trip Verified',\n",
      "     'non_rating_dict': {'Aircraft': 'A380',\n",
      "                         'Date Flown': 'August 2023',\n",
      "                         'Recommended': 'yes',\n",
      "                         'Route': 'London to Miami',\n",
      "                         'Seat Type': 'Business Class',\n",
      "                         'Type Of Traveller': 'Family Leisure'},\n",
      "     'passenger_name': 'E Smyth',\n",
      "     'rating_dict': {},\n",
      "     'review_header': 'Cabin crew were all fantastic'},\n",
      " 1: {'country_of_origin': 'United States',\n",
      "     'date': '12th August 2023',\n",
      "     'detailed_review': 'Flight delayed by an hour, it happens, no biggie. Had '\n",
      "                        'us change our gate at the airport, never happened '\n",
      "                        \"before but I guess it's ok. Gate agent asked us to \"\n",
      "                        'check our bags and after telling him we would prefer '\n",
      "                        'not to do that, he did it anyway. Second gate agent '\n",
      "                        'reassigned our seats from exit row to regular which '\n",
      "                        'is a huge squeeze my for 6\\'3\" travel bud. ',\n",
      "     'is_verified': 'Not Verified',\n",
      "     'non_rating_dict': {'Date Flown': 'August 2023',\n",
      "                         'Recommended': 'no',\n",
      "                         'Route': 'London to Paris',\n",
      "                         'Seat Type': 'Economy Class',\n",
      "                         'Type Of Traveller': 'Family Leisure'},\n",
      "     'passenger_name': 'D Daly',\n",
      "     'rating_dict': {},\n",
      "     'review_header': 'asked us to check our bags'},\n",
      " 2: {'country_of_origin': 'United Kingdom',\n",
      "     'date': '11th August 2023',\n",
      "     'detailed_review': 'The staff are very rude and not trained properly. No '\n",
      "                        'exceptions are made for children and elderly people. '\n",
      "                        'The price of the ticket is very expensive given the '\n",
      "                        'distance and the service is extremely extremely poor',\n",
      "     'is_verified': 'Not Verified',\n",
      "     'non_rating_dict': {'Date Flown': 'August 2023',\n",
      "                         'Recommended': 'no',\n",
      "                         'Route': 'London to Algiers',\n",
      "                         'Seat Type': 'Economy Class',\n",
      "                         'Type Of Traveller': 'Family Leisure'},\n",
      "     'passenger_name': 'Karima Saci',\n",
      "     'rating_dict': {},\n",
      "     'review_header': 'service is extremely poor'},\n",
      " 3: {'country_of_origin': 'United Kingdom',\n",
      "     'date': '8th August 2023',\n",
      "     'detailed_review': 'Good domestic flight operated by BA Cityflyer. Ground '\n",
      "                        'service at check-in Edinburgh airport was '\n",
      "                        'particularly friendly and helpful. The flight '\n",
      "                        'departed on time and arrived earlier than scheduled. '\n",
      "                        'A complimentary drink and snack (albeit tiny!) were '\n",
      "                        'served. Generally it seems that the quality of the '\n",
      "                        'Cityflyer subsidiary is superior to the mainline '\n",
      "                        'British Airways flights.',\n",
      "     'is_verified': 'Trip Verified',\n",
      "     'non_rating_dict': {'Aircraft': 'Embraer-190',\n",
      "                         'Date Flown': 'July 2023',\n",
      "                         'Recommended': 'yes',\n",
      "                         'Route': 'Edinburgh to London City',\n",
      "                         'Seat Type': 'Economy Class',\n",
      "                         'Type Of Traveller': 'Couple Leisure'},\n",
      "     'passenger_name': 'S Deynal',\n",
      "     'rating_dict': {},\n",
      "     'review_header': 'superior to mainline British Airways'},\n",
      " 4: {'country_of_origin': 'Canada',\n",
      "     'date': '8th August 2023',\n",
      "     'detailed_review': 'Failed at all basic travel fundamentals: 1) Our '\n",
      "                        'flight was delayed. 2) Staff demanded that we check '\n",
      "                        'in our carry on luggage even though we met our carry '\n",
      "                        'on allowance. The fact that we have a tight bus '\n",
      "                        'connection was totally ignored. 3) Staff were quite '\n",
      "                        'unpleasant.',\n",
      "     'is_verified': 'Not Verified',\n",
      "     'non_rating_dict': {'Date Flown': 'August 2023',\n",
      "                         'Recommended': 'no',\n",
      "                         'Route': 'London to Vienna',\n",
      "                         'Seat Type': 'Economy Class',\n",
      "                         'Type Of Traveller': 'Solo Leisure'},\n",
      "     'passenger_name': 'Branko Stolz',\n",
      "     'rating_dict': {},\n",
      "     'review_header': 'Staff quite unpleasant'},\n",
      " 5: {'country_of_origin': 'Poland',\n",
      "     'date': '8th August 2023',\n",
      "     'detailed_review': \"They lost my baggage in a very simple situation. It's \"\n",
      "                        \"been three weeks and they don't care, no \"\n",
      "                        'communication whatsoever. I was at the connection '\n",
      "                        'checkpoint at Heathrow 3hrs before my connecting '\n",
      "                        'flight, the last leg of my trip. An agent insists on '\n",
      "                        'checking in my hand luggage since my plane is full. '\n",
      "                        'And then they lose it. I claim it at the arrival '\n",
      "                        \"airport immediately. Now it's been three weeks, no \"\n",
      "                        'communication whatsoever, the online status is still '\n",
      "                        '“Searching for your bag” with no updates. My '\n",
      "                        'conclusion is that the BA males no effort to find my '\n",
      "                        \"missing bag and they don't care. \",\n",
      "     'is_verified': 'Trip Verified',\n",
      "     'non_rating_dict': {'Aircraft': 'A380 / A320',\n",
      "                         'Date Flown': 'July 2023',\n",
      "                         'Recommended': 'no',\n",
      "                         'Route': 'San Francisco to Warsaw via London',\n",
      "                         'Seat Type': 'Economy Class',\n",
      "                         'Type Of Traveller': 'Business'},\n",
      "     'passenger_name': 'G Maysev',\n",
      "     'rating_dict': {},\n",
      "     'review_header': 'They lost my baggage'},\n",
      " 6: {'country_of_origin': 'United Kingdom',\n",
      "     'date': '5th August 2023',\n",
      "     'detailed_review': 'Late boarding led to a one hour flight leaving two '\n",
      "                        'hours late. A single BA staff member turned up to '\n",
      "                        'board a full flight shortly before the flight was due '\n",
      "                        'to depart. There had been no previous announcement of '\n",
      "                        'the delay. Once on board the captain blamed Frankfurt '\n",
      "                        'ground staff for delaying takeoff when clearly late '\n",
      "                        'boarding had resulted in a missed departure slot.',\n",
      "     'is_verified': 'Trip Verified',\n",
      "     'non_rating_dict': {'Aircraft': 'Embraer',\n",
      "                         'Date Flown': 'August 2023',\n",
      "                         'Recommended': 'no',\n",
      "                         'Route': 'Frankfurt to London City',\n",
      "                         'Seat Type': 'Economy Class',\n",
      "                         'Type Of Traveller': 'Business'},\n",
      "     'passenger_name': 'R Heirten',\n",
      "     'rating_dict': {},\n",
      "     'review_header': 'leaving two hours late\" '},\n",
      " 7: {'country_of_origin': 'United Kingdom',\n",
      "     'date': '4th August 2023',\n",
      "     'detailed_review': 'As usual the flight is delayed. BA try to blame '\n",
      "                        'someone for the inability and incapacity of '\n",
      "                        \"delivering what they sell. Why don't you hire enough \"\n",
      "                        'personnel to fulfil your staff demand. ',\n",
      "     'is_verified': 'Trip Verified',\n",
      "     'non_rating_dict': {'Date Flown': 'August 2023',\n",
      "                         'Recommended': 'no',\n",
      "                         'Route': 'London to Lyon',\n",
      "                         'Seat Type': 'Economy Class',\n",
      "                         'Type Of Traveller': 'Solo Leisure'},\n",
      "     'passenger_name': 'Gustavo Sirna Barbosa',\n",
      "     'rating_dict': {},\n",
      "     'review_header': 'flight is delayed\" '},\n",
      " 8: {'country_of_origin': 'Hong Kong',\n",
      "     'date': '1st August 2023',\n",
      "     'detailed_review': 'I had the most fantastic BA Flight today. The cabin '\n",
      "                        'crew in my seat zone 6D were of the best I have '\n",
      "                        'experienced. Although the 777 had the old style '\n",
      "                        'rear/front seating - it was comfortable and felt open '\n",
      "                        'and spacious. BA have done great things with the menu '\n",
      "                        '- it was nice not to have to eat breakfast food on '\n",
      "                        'the pre-arrival meal into HKG at 1730PM local time '\n",
      "                        'having left London at 2200 the night before. The '\n",
      "                        'dinner offering was equally ample and delicious. The '\n",
      "                        'inflight entertainment had a great collection of TV '\n",
      "                        'and current films and the inflight map was first '\n",
      "                        'rate. Previously not a huge BA fan - but after this '\n",
      "                        '12 hour flight I could only recommend it without '\n",
      "                        'reserve. I flew the new BA suite in J class on a '\n",
      "                        'recent Delhi to London flight and enjoyed that '\n",
      "                        'product (although I felt it slightly more cramped ) '\n",
      "                        'but I think BA have stepped up with really '\n",
      "                        'comfortable bedding and food and very friendly crew '\n",
      "                        'who engaged throughout the flight in the best way. '\n",
      "                        \"Couldn't recommend BA more on this flight today\",\n",
      "     'is_verified': 'Trip Verified',\n",
      "     'non_rating_dict': {'Aircraft': 'Boeing 777',\n",
      "                         'Date Flown': 'July 2023',\n",
      "                         'Recommended': 'yes',\n",
      "                         'Route': 'London to Hong Kong',\n",
      "                         'Seat Type': 'Business Class',\n",
      "                         'Type Of Traveller': 'Solo Leisure'},\n",
      "     'passenger_name': 'Andrew Ling',\n",
      "     'rating_dict': {},\n",
      "     'review_header': \"Couldn't recommend BA more\"},\n",
      " 9: {'country_of_origin': 'United Kingdom',\n",
      "     'date': '31st July 2023',\n",
      "     'detailed_review': 'Couldn’t book in online. Arrived at check in to find '\n",
      "                        'we had been bumped off due to overselling. No BA '\n",
      "                        'staff available. Very helpful Gatwick staff got us a '\n",
      "                        'bus to LHR and a flight to Toulouse. Had knock in '\n",
      "                        'effect on our car booking and sharing as the rest of '\n",
      "                        'family had been able yo board original flight. '\n",
      "                        'Airlines should be legally stopped from selling seats '\n",
      "                        'twice.',\n",
      "     'is_verified': 'Trip Verified',\n",
      "     'non_rating_dict': {'Date Flown': 'July 2023',\n",
      "                         'Recommended': 'no',\n",
      "                         'Route': 'Gatwick to Montpelier',\n",
      "                         'Seat Type': 'Economy Class',\n",
      "                         'Type Of Traveller': 'Couple Leisure'},\n",
      "     'passenger_name': 'Alison Spencer',\n",
      "     'rating_dict': {},\n",
      "     'review_header': 'bumped off due to overselling'}}\n"
     ]
    }
   ],
   "source": [
    "from pprint import pprint\n",
    "pprint(article_dict)"
   ]
  },
  {
   "cell_type": "code",
   "execution_count": null,
   "id": "8433d5bb-6793-4496-94a7-0353d96c0b0f",
   "metadata": {},
   "outputs": [],
   "source": []
  }
 ],
 "metadata": {
  "kernelspec": {
   "display_name": "Python 3 (ipykernel)",
   "language": "python",
   "name": "python3"
  },
  "language_info": {
   "codemirror_mode": {
    "name": "ipython",
    "version": 3
   },
   "file_extension": ".py",
   "mimetype": "text/x-python",
   "name": "python",
   "nbconvert_exporter": "python",
   "pygments_lexer": "ipython3",
   "version": "3.10.12"
  }
 },
 "nbformat": 4,
 "nbformat_minor": 5
}
