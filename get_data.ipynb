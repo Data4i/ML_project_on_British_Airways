{
 "cells": [
  {
   "cell_type": "code",
   "execution_count": 2,
   "id": "2c8d4a0b-3dba-4625-b103-7f63218dbf4c",
   "metadata": {},
   "outputs": [],
   "source": [
    "import re\n",
    "import requests\n",
    "from bs4 import BeautifulSoup\n",
    "import json"
   ]
  },
  {
   "cell_type": "code",
   "execution_count": 11,
   "id": "442f0127-cbe0-45c4-9543-d8f2664738ef",
   "metadata": {},
   "outputs": [],
   "source": [
    "article_dict = list()\n",
    "counts = 0 \n",
    "for i in range(1, 38):\n",
    "    response = requests.get(f'https://www.airlinequality.com/airline-reviews/british-airways/page/{i}/?sortby=post_date%3ADesc&pagesize=100')\n",
    "    if response.status_code == 200:\n",
    "        soup = BeautifulSoup(response.text, 'html.parser')  \n",
    "    else:\n",
    "        print(f\"Error: Unable to fetch the content:{response.status_code}\")\n",
    "\n",
    "    all_article_in_a_page = soup.find_all('article', {\"itemprop\": \"review\"})\n",
    "    pattern = r'\\((.*?)\\)'\n",
    "    get_int_pattern = r'\\d+'\n",
    "    \n",
    "    for i, article in enumerate(all_article_in_a_page):\n",
    "        table = article.find('div', {'class': 'body'}).find('div').find('div', {'class': 'review-stats'}).find('table').find_all('tr')\n",
    "        \n",
    "        review_dict = {}\n",
    "        for tr in table:\n",
    "            header_td = tr.find('td', class_='review-rating-header')\n",
    "            value_td = tr.find('td', class_='review-value')\n",
    "            stars_td = tr.find('td', {'class': 'review-rating-stars'})\n",
    "            \n",
    "            if header_td and value_td:\n",
    "                header = header_td.get_text(strip=True)\n",
    "                value = value_td.get_text(strip=True)\n",
    "                review_dict[header] = value\n",
    "            elif not value_td:\n",
    "                header = header_td.get_text(strip=True)\n",
    "                stars = stars_td.get_text(strip=True)\n",
    "                fill_stars = stars_td.find_all('span', class_='fill')\n",
    "                review_dict[header] = len(fill_stars)\n",
    "\n",
    "        author = article.find('div', {'class': 'body'}).find('h3').find('span', {'itemprop': 'author'})\n",
    "        if author.a is not None:\n",
    "            passenger_name = author.find('span', {'itemprop': 'name'}).text\n",
    "            no_of_reviews = int(re.findall(get_int_pattern, author.a.span.text)[0])\n",
    "        elif author.a is None:\n",
    "            passenger_name = author.text.removeprefix('\\n').removesuffix('\\n').split('\\n')[-1]\n",
    "            no_of_reviews = 0\n",
    "            \n",
    "        # .find('strong').text\n",
    "        text_content = article.find('div', {'class': 'body'}).find('div').find('div', {'class': 'text_content'})\n",
    "        if text_content.strong is not None:\n",
    "            is_verified = text_content.find('strong').text\n",
    "            detailed_review = text_content.text.split('|')[-1].strip(' ')\n",
    "        elif text_content.strong is None:\n",
    "            is_verified = 'not specified'\n",
    "            detailed_review = text_content.text\n",
    "\n",
    "        \n",
    "        article_dict.append({\n",
    "            'id': counts,\n",
    "            'review_header': article.find('div', {'class': 'body'}).find('h2', {'class': 'text_header'}).text.strip('\"'),\n",
    "            'no_of_reviews': no_of_reviews,\n",
    "            'passenger_name': passenger_name,\n",
    "            'country_of_origin': ''.join(re.findall(pattern, article.find('div', {'class': 'body'}).find('h3').text)),\n",
    "            'date': article.find('div', {'class': 'body'}).find('h3').find('time').text,\n",
    "            'is_verified': is_verified,\n",
    "            'detailed_review': detailed_review,\n",
    "            'rating_dict': review_dict,\n",
    "        })\n",
    "    \n",
    "        counts+=1"
   ]
  },
  {
   "cell_type": "code",
   "execution_count": 12,
   "id": "d3354c51-65ac-480f-992a-7a8af4993079",
   "metadata": {},
   "outputs": [
    {
     "data": {
      "text/plain": [
       "3642"
      ]
     },
     "execution_count": 12,
     "metadata": {},
     "output_type": "execute_result"
    }
   ],
   "source": [
    "len(article_dict)"
   ]
  },
  {
   "cell_type": "code",
   "execution_count": 17,
   "id": "b28d3cb2-d173-4c57-9f36-cc39825b02fc",
   "metadata": {},
   "outputs": [
    {
     "name": "stdout",
     "output_type": "stream",
     "text": [
      "{'country_of_origin': 'United States',\n",
      " 'date': '13th May 2023',\n",
      " 'detailed_review': 'I booked business class tickets for my fiancé and I. I '\n",
      "                    'had to reschedule my flight due to an unforeseen timing '\n",
      "                    'change, so I called to get have my flight refunded. The '\n",
      "                    \"representative on the phone informed me he wasn't sure \"\n",
      "                    'how much I would get, as the refund department needed to '\n",
      "                    'check, but estimated I would lose 10-20% of my booking to '\n",
      "                    'fees. I accepted. I never got a cancellation email, or '\n",
      "                    'any update, but instead received $35 total back. Less '\n",
      "                    'than 1% of my booking costs. Since then I have spent over '\n",
      "                    '5 hours calling different departments before they blocked '\n",
      "                    \"me. I've lost a tremendous amount of money with nothing \"\n",
      "                    'to show.',\n",
      " 'id': 100,\n",
      " 'is_verified': 'Trip Verified',\n",
      " 'no_of_reviews': 0,\n",
      " 'passenger_name': 'Nicholas Felty',\n",
      " 'rating_dict': {'Date Flown': 'May 2023',\n",
      "                 'Recommended': 'no',\n",
      "                 'Seat Type': 'Business Class',\n",
      "                 'Type Of Traveller': 'Couple Leisure',\n",
      "                 'Value For Money': 1},\n",
      " 'review_header': 'I had to reschedule my flight'}\n"
     ]
    }
   ],
   "source": [
    "from pprint import pprint\n",
    "pprint(article_dict[100])"
   ]
  },
  {
   "cell_type": "code",
   "execution_count": 18,
   "id": "e1d68551-5964-4107-8fe5-790e31086df7",
   "metadata": {},
   "outputs": [],
   "source": [
    "file_path = 'british_airways_reviews.json'"
   ]
  },
  {
   "cell_type": "code",
   "execution_count": 19,
   "id": "1e9954ae-1dfb-4853-918e-2441285275fc",
   "metadata": {},
   "outputs": [],
   "source": [
    "with open(file_path, 'w') as json_file:\n",
    "    json.dump(article_dict, json_file)"
   ]
  },
  {
   "cell_type": "code",
   "execution_count": null,
   "id": "afeadf58-f138-4e17-9190-6ceb08f4bc50",
   "metadata": {},
   "outputs": [],
   "source": []
  }
 ],
 "metadata": {
  "kernelspec": {
   "display_name": "Python 3 (ipykernel)",
   "language": "python",
   "name": "python3"
  },
  "language_info": {
   "codemirror_mode": {
    "name": "ipython",
    "version": 3
   },
   "file_extension": ".py",
   "mimetype": "text/x-python",
   "name": "python",
   "nbconvert_exporter": "python",
   "pygments_lexer": "ipython3",
   "version": "3.10.12"
  }
 },
 "nbformat": 4,
 "nbformat_minor": 5
}
